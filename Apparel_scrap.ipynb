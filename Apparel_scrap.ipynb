{
 "cells": [
  {
   "cell_type": "code",
   "execution_count": 2,
   "metadata": {},
   "outputs": [],
   "source": [
    "from bs4 import BeautifulSoup\n",
    "import requests\n",
    "import pandas as pd"
   ]
  },
  {
   "cell_type": "code",
   "execution_count": 3,
   "metadata": {},
   "outputs": [],
   "source": [
    "#Creating colunms\n",
    "Product_name = []\n",
    "Product_Price = []\n",
    "Original_Price = []\n",
    "Discount = []\n",
    "Brand = []\n",
    "\n"
   ]
  },
  {
   "cell_type": "code",
   "execution_count": 4,
   "metadata": {},
   "outputs": [],
   "source": [
    "#extracting data from flipkart \n",
    "for i in range(1,10):\n",
    "    url = ('https://www.flipkart.com/search?q=mens+apparel&otracker=search&otracker1=search&marketplace=FLIPKART&as-show=on&as=off&as-pos=1&as-type=HISTORY&p%5B%5D=facets.brand%255B%255D%3DAllen%2BSolly&p%5B%5D=facets.brand%255B%255D%3DADIDAS&p%5B%5D=facets.brand%255B%255D%3DFLYING%2BMACHINE&p%5B%5D=facets.brand%255B%255D%3DPETER%2BENGLAND&p%5B%5D=facets.brand%255B%255D%3DPepe%2BJeans&p%5B%5D=facets.brand%255B%255D%3DHRX%2Bby%2BHrithik%2BRoshan&p%5B%5D=facets.brand%255B%255D%3DHIGHLANDER&page='+str('1'))\n",
    "    source = requests.get(url)\n",
    "    source.raise_for_status()\n",
    "    soup = BeautifulSoup(source.text, 'html.parser')\n",
    "   \n",
    "\n",
    "\n",
    "    # ProductName\n",
    "    name = soup.find_all('a', class_='IRpwTa')\n",
    "    for i in name:\n",
    "\n",
    "        name = i.text\n",
    "        Product_name.append(name)\n",
    "    #Brand   \n",
    "    br = soup.find_all('div', class_='_2WkVRV')\n",
    "    for i in br:\n",
    "\n",
    "        br = i.text\n",
    "        Brand.append(br)\n",
    "\n",
    "\n",
    "    # ProductPrice\n",
    "    price = soup.find_all('div', class_='_30jeq3')\n",
    "    for i in price:\n",
    "    \n",
    "            price = i.int\n",
    "            Product_Price.append(price)\n",
    "        \n",
    "\n",
    "    # OriginalPrice\n",
    "    d_price = soup.find_all('div', class_='_3I9_wc')\n",
    "    for i in d_price:\n",
    "\n",
    "        d_price = i.int\n",
    "        Original_Price.append(d_price)\n",
    "\n",
    "\n",
    "    # Dicount\n",
    "    dis = soup.find_all('div', class_='_3Ay6Sb')\n",
    "    for i in dis:\n",
    "\n",
    "        dis = i.percent\n",
    "        Discount.append(dis)\n",
    "\n",
    "\n"
   ]
  },
  {
   "cell_type": "code",
   "execution_count": 5,
   "metadata": {},
   "outputs": [
    {
     "data": {
      "text/plain": [
       "[360, 360, 360, 329, 329]"
      ]
     },
     "execution_count": 5,
     "metadata": {},
     "output_type": "execute_result"
    }
   ],
   "source": [
    "# sHAPE OF DATA FRAME\n",
    "F_LIST = [len(Product_name),\n",
    "          len(Product_Price),\n",
    "          len(Brand),\n",
    "          len(Discount),\n",
    "          len(Original_Price),\n",
    "          ]\n",
    "F_LIST\n",
    "\n"
   ]
  },
  {
   "cell_type": "code",
   "execution_count": 6,
   "metadata": {},
   "outputs": [],
   "source": [
    "#creating the data frame\n",
    "df=pd.DataFrame({\n",
    "    'Product_name':Product_name,\n",
    "    'Product_Price':Product_Price,\n",
    "    'Brand':Brand\n",
    "     })\n",
    "\n",
    "df['Discount']=pd.Series(Discount)\n",
    "df['Orginal Price']=pd.Series(Original_Price)\n",
    "#loading data into csv\n",
    "\n",
    "df.to_csv('Mens2_Apparel.csv')"
   ]
  }
 ],
 "metadata": {
  "kernelspec": {
   "display_name": "Python 3",
   "language": "python",
   "name": "python3"
  },
  "language_info": {
   "codemirror_mode": {
    "name": "ipython",
    "version": 3
   },
   "file_extension": ".py",
   "mimetype": "text/x-python",
   "name": "python",
   "nbconvert_exporter": "python",
   "pygments_lexer": "ipython3",
   "version": "3.10.3 (tags/v3.10.3:a342a49, Mar 16 2022, 13:07:40) [MSC v.1929 64 bit (AMD64)]"
  },
  "orig_nbformat": 4,
  "vscode": {
   "interpreter": {
    "hash": "26de051ba29f2982a8de78e945f0abaf191376122a1563185a90213a26c5da77"
   }
  }
 },
 "nbformat": 4,
 "nbformat_minor": 2
}
